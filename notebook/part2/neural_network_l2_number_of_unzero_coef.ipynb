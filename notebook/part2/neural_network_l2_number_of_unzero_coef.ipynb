{
 "cells": [
  {
   "cell_type": "code",
   "execution_count": 1,
   "metadata": {
    "collapsed": true
   },
   "outputs": [],
   "source": [
    "import numpy\n",
    "from models import neural_network"
   ]
  },
  {
   "cell_type": "code",
   "execution_count": 2,
   "metadata": {},
   "outputs": [],
   "source": [
    "X = numpy.loadtxt(\"./data/Train/X_train.txt\")\n",
    "y = numpy.loadtxt(\"./data/Train/y_train.txt\")"
   ]
  },
  {
   "cell_type": "code",
   "execution_count": 5,
   "metadata": {
    "collapsed": false
   },
   "outputs": [
    {
     "name": "stdout",
     "output_type": "stream",
     "text": [
      "0.0001 is completed\n"
     ]
    },
    {
     "name": "stdout",
     "output_type": "stream",
     "text": [
      "0.0002 is completed\n"
     ]
    },
    {
     "name": "stdout",
     "output_type": "stream",
     "text": [
      "0.0005 is completed\n"
     ]
    },
    {
     "name": "stdout",
     "output_type": "stream",
     "text": [
      "0.001 is completed\n"
     ]
    },
    {
     "name": "stdout",
     "output_type": "stream",
     "text": [
      "0.002 is completed\n"
     ]
    },
    {
     "name": "stdout",
     "output_type": "stream",
     "text": [
      "0.005 is completed\n"
     ]
    },
    {
     "name": "stdout",
     "output_type": "stream",
     "text": [
      "0.01 is completed\n"
     ]
    },
    {
     "name": "stdout",
     "output_type": "stream",
     "text": [
      "0.1 is completed\n"
     ]
    },
    {
     "name": "stdout",
     "output_type": "stream",
     "text": [
      "1 is completed\n"
     ]
    },
    {
     "name": "stdout",
     "output_type": "stream",
     "text": [
      "10.0 is completed\n"
     ]
    },
    {
     "name": "stdout",
     "output_type": "stream",
     "text": [
      "100.0 is completed\n"
     ]
    }
   ],
   "source": [
    "C = [1e-4, 2e-4, 5e-4, 1e-3, 2e-3, 5e-3, 1e-2, 1e-1, 1, 1e1, 1e2]\n",
    "report = []\n",
    "for c in C:\n",
    "    clf = neural_network.penalty_l2(X, y, c)\n",
    "    non_zero = 0\n",
    "    for coefi in clf.coefs_:\n",
    "        for coefij in coefi:\n",
    "            for coefijk in coefij:\n",
    "                if(coefijk > 1e-6):\n",
    "                    non_zero += 1\n",
    "    data = {\n",
    "        'C': c,\n",
    "        'non-zeros': non_zero\n",
    "    }\n",
    "    report.append(data)\n",
    "    print(\"{} is completed\".format(c))"
   ]
  },
  {
   "cell_type": "code",
   "execution_count": 6,
   "metadata": {
    "collapsed": false
   },
   "outputs": [
    {
     "data": {
      "text/plain": [
       "[{'C': 0.0001, 'non-zeros': 16195},\n {'C': 0.0002, 'non-zeros': 15969},\n {'C': 0.0005, 'non-zeros': 16018},\n {'C': 0.001, 'non-zeros': 16220},\n {'C': 0.002, 'non-zeros': 16072},\n {'C': 0.005, 'non-zeros': 16238},\n {'C': 0.01, 'non-zeros': 16109},\n {'C': 0.1, 'non-zeros': 16141},\n {'C': 1, 'non-zeros': 16031},\n {'C': 10.0, 'non-zeros': 15967},\n {'C': 100.0, 'non-zeros': 14581}]"
      ]
     },
     "execution_count": 6,
     "metadata": {},
     "output_type": "execute_result"
    }
   ],
   "source": [
    "report"
   ]
  }
 ],
 "metadata": {
  "kernelspec": {
   "display_name": "Python 2",
   "language": "python",
   "name": "python2"
  },
  "language_info": {
   "codemirror_mode": {
    "name": "ipython",
    "version": 2
   },
   "file_extension": ".py",
   "mimetype": "text/x-python",
   "name": "python",
   "nbconvert_exporter": "python",
   "pygments_lexer": "ipython2",
   "version": "2.7.6"
  }
 },
 "nbformat": 4,
 "nbformat_minor": 0
}
