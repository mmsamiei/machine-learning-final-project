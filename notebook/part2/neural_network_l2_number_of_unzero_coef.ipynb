{
 "cells": [
  {
   "cell_type": "code",
   "execution_count": 4,
   "metadata": {
    "collapsed": true
   },
   "outputs": [],
   "source": [
    "import numpy\n",
    "from src.preprocessing import feature_selection\n",
    "from sklearn.model_selection import cross_val_score\n",
    "from sklearn.neural_network import MLPClassifier"
   ]
  },
  {
   "cell_type": "code",
   "execution_count": 7,
   "metadata": {},
   "outputs": [],
   "source": [
    "X = numpy.loadtxt(\"./data/Train/X_train.txt\")\n",
    "y = numpy.loadtxt(\"./data/Train/y_train.txt\")\n",
    "X = feature_selection.dummy_selctor(X, 2)\n",
    "clf = MLPClassifier(max_iter=1000)"
   ]
  },
  {
   "cell_type": "code",
   "execution_count": 42,
   "metadata": {
    "collapsed": false
   },
   "outputs": [],
   "source": [
    "C = [1e-4, 2e-4, 5e-4, 1e-3, 2e-3, 5e-3, 1e-2, 1e-1, 1, 1e1, 1e2]\n",
    "report = []\n",
    "for c in C:\n",
    "    clf = MLPClassifier(alpha=c, max_iter=2000)\n",
    "    scores = cross_val_score(clf, X, y, cv=5)\n",
    "    score = numpy.mean(scores)\n",
    "    clf.fit(X, y)\n",
    "    non_zero = 0\n",
    "    for coefi in clf.coefs_:\n",
    "        for coefij in coefi:\n",
    "            for coefijk in coefij:\n",
    "                if(coefijk > 1e-6):\n",
    "                    non_zero += 1\n",
    "    data = {\n",
    "        'C': c,\n",
    "        'score': score,\n",
    "        'non-zeros': non_zero\n",
    "    }\n",
    "    report.append(data)"
   ]
  },
  {
   "cell_type": "code",
   "execution_count": 44,
   "metadata": {
    "collapsed": false
   },
   "outputs": [
    {
     "data": {
      "text/plain": [
       "[{'C': 0.0001, 'score': 0.41998922279565354, 'non-zeros': 613},\n {'C': 0.0002, 'score': 0.40478457386643296, 'non-zeros': 542},\n {'C': 0.0005, 'score': 0.41537868132835226, 'non-zeros': 606},\n {'C': 0.001, 'score': 0.4167836100531085, 'non-zeros': 577},\n {'C': 0.002, 'score': 0.4041414652993308, 'non-zeros': 608},\n {'C': 0.005, 'score': 0.39298203290563366, 'non-zeros': 610},\n {'C': 0.01, 'score': 0.38651458293494445, 'non-zeros': 565},\n {'C': 0.1, 'score': 0.28558415743373355, 'non-zeros': 460},\n {'C': 1, 'score': 0.19029584452485754, 'non-zeros': 525},\n {'C': 10.0, 'score': 0.1844988393712148, 'non-zeros': 279},\n {'C': 100.0, 'score': 0.18411282089735517, 'non-zeros': 320}]"
      ]
     },
     "execution_count": 44,
     "metadata": {},
     "output_type": "execute_result"
    }
   ],
   "source": [
    "report"
   ]
  }
 ],
 "metadata": {
  "kernelspec": {
   "display_name": "Python 2",
   "language": "python",
   "name": "python2"
  },
  "language_info": {
   "codemirror_mode": {
    "name": "ipython",
    "version": 2
   },
   "file_extension": ".py",
   "mimetype": "text/x-python",
   "name": "python",
   "nbconvert_exporter": "python",
   "pygments_lexer": "ipython2",
   "version": "2.7.6"
  }
 },
 "nbformat": 4,
 "nbformat_minor": 0
}
