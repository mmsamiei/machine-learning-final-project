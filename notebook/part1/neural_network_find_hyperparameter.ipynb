{
 "cells": [
  {
   "cell_type": "code",
   "execution_count": 1,
   "metadata": {
    "collapsed": true
   },
   "outputs": [],
   "source": [
    "import numpy\n",
    "X = numpy.loadtxt(\"./data/Train/X_train.txt\")\n",
    "y = numpy.loadtxt(\"./data/Train/y_train.txt\")"
   ]
  },
  {
   "cell_type": "code",
   "execution_count": 2,
   "metadata": {},
   "outputs": [
    {
     "name": "stdout",
     "output_type": "stream",
     "text": [
      "cross validation scores of best moddel are : [0.97047497 0.97429306 0.97619048 0.97743391 0.97674419]\nmean of cross validation scores of best model is: 0.9750273205749304\n"
     ]
    }
   ],
   "source": [
    "from models import neural_network\n",
    "best_model = neural_network.find_hyperparameter(X,y)"
   ]
  },
  {
   "cell_type": "code",
   "execution_count": 3,
   "metadata": {},
   "outputs": [
    {
     "data": {
      "text/plain": [
       "{'activation': 'tanh',\n 'alpha': 0,\n 'batch_size': 'auto',\n 'beta_1': 0.9,\n 'beta_2': 0.999,\n 'early_stopping': False,\n 'epsilon': 1e-08,\n 'hidden_layer_sizes': 56,\n 'learning_rate': 'constant',\n 'learning_rate_init': 0.001,\n 'max_iter': 1000,\n 'momentum': 0.9,\n 'n_iter_no_change': 10,\n 'nesterovs_momentum': True,\n 'power_t': 0.5,\n 'random_state': None,\n 'shuffle': True,\n 'solver': 'adam',\n 'tol': 0.0001,\n 'validation_fraction': 0.1,\n 'verbose': False,\n 'warm_start': False}"
      ]
     },
     "execution_count": 3,
     "metadata": {},
     "output_type": "execute_result"
    }
   ],
   "source": [
    "best_model.get_params()"
   ]
  },
  {
   "cell_type": "code",
   "execution_count": 4,
   "metadata": {},
   "outputs": [
    {
     "data": {
      "text/plain": [
       "56"
      ]
     },
     "execution_count": 4,
     "metadata": {},
     "output_type": "execute_result"
    }
   ],
   "source": [
    "best_model.hidden_layer_sizes"
   ]
  }
 ],
 "metadata": {
  "kernelspec": {
   "display_name": "Python 2",
   "language": "python",
   "name": "python2"
  },
  "language_info": {
   "codemirror_mode": {
    "name": "ipython",
    "version": 2
   },
   "file_extension": ".py",
   "mimetype": "text/x-python",
   "name": "python",
   "nbconvert_exporter": "python",
   "pygments_lexer": "ipython2",
   "version": "2.7.6"
  }
 },
 "nbformat": 4,
 "nbformat_minor": 0
}
