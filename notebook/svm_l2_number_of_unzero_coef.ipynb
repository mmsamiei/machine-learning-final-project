{
 "cells": [
  {
   "cell_type": "code",
   "execution_count": 2,
   "metadata": {
    "collapsed": true
   },
   "outputs": [],
   "source": [
    "import numpy\n",
    "from sklearn.svm import SVC\n",
    "from src.preprocessing import feature_selection\n",
    "from sklearn.model_selection import cross_val_score\n",
    "from sklearn.model_selection import RandomizedSearchCV\n",
    "from sklearn.svm import LinearSVC\n",
    "from sklearn.model_selection import GridSearchCV"
   ]
  },
  {
   "cell_type": "code",
   "execution_count": 3,
   "metadata": {},
   "outputs": [],
   "source": [
    "X = numpy.loadtxt(\"./data/Train/X_train.txt\")\n",
    "y = numpy.loadtxt(\"./data/Train/y_train.txt\")\n",
    "X = feature_selection.dummy_selctor(X, 300)\n",
    "clf = LinearSVC(penalty='l2', dual=False)"
   ]
  },
  {
   "cell_type": "code",
   "execution_count": 4,
   "metadata": {},
   "outputs": [],
   "source": [
    "C = [1e-4, 2e-4, 5e-4, 1e-3, 2e-3, 5e-3, 1e-2, 1e-1, 1, 1e1, 1e2]\n",
    "report = []\n",
    "for c in C:\n",
    "    clf = LinearSVC(penalty='l2', dual=False, C=c)\n",
    "    scores = cross_val_score(clf, X, y, cv=5)\n",
    "    score = numpy.mean(scores)\n",
    "    clf.fit(X, y)\n",
    "    non_zero = 0\n",
    "    for coefi in clf.coef_:\n",
    "        for coefij in coefi:\n",
    "            if(coefij > 1e-6):\n",
    "                non_zero += 1\n",
    "    data = {\n",
    "        'C': c,\n",
    "        'score': score,\n",
    "        'non-zeros': non_zero\n",
    "    }\n",
    "    report.append(data)"
   ]
  },
  {
   "cell_type": "code",
   "execution_count": 5,
   "metadata": {},
   "outputs": [
    {
     "data": {
      "text/plain": [
       "[{'C': 0.0001, 'score': 0.8372536620412692, 'non-zeros': 2088},\n {'C': 0.0002, 'score': 0.8488434428538927, 'non-zeros': 2038},\n {'C': 0.0005, 'score': 0.8778069149194246, 'non-zeros': 2002},\n {'C': 0.001, 'score': 0.8986629962578035, 'non-zeros': 1974},\n {'C': 0.002, 'score': 0.9206845826790456, 'non-zeros': 1943},\n {'C': 0.005, 'score': 0.9443748094336268, 'non-zeros': 1901},\n {'C': 0.01, 'score': 0.9542884186734485, 'non-zeros': 1880},\n {'C': 0.1, 'score': 0.9691002828142139, 'non-zeros': 1853},\n {'C': 1, 'score': 0.971673056057336, 'non-zeros': 1820},\n {'C': 10.0, 'score': 0.9697476109534151, 'non-zeros': 1815},\n {'C': 100.0, 'score': 0.9679478718922573, 'non-zeros': 1841}]"
      ]
     },
     "execution_count": 5,
     "metadata": {},
     "output_type": "execute_result"
    }
   ],
   "source": [
    "report"
   ]
  }
 ],
 "metadata": {
  "kernelspec": {
   "display_name": "Python 2",
   "language": "python",
   "name": "python2"
  },
  "language_info": {
   "codemirror_mode": {
    "name": "ipython",
    "version": 2
   },
   "file_extension": ".py",
   "mimetype": "text/x-python",
   "name": "python",
   "nbconvert_exporter": "python",
   "pygments_lexer": "ipython2",
   "version": "2.7.6"
  }
 },
 "nbformat": 4,
 "nbformat_minor": 0
}
