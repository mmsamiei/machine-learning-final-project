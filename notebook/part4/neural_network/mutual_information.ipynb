{
 "cells": [
  {
   "cell_type": "code",
   "execution_count": 1,
   "metadata": {
    "collapsed": true
   },
   "outputs": [],
   "source": [
    "import numpy\n",
    "from sklearn.utils import shuffle\n",
    "from sklearn.model_selection import train_test_split\n",
    "X = numpy.loadtxt(\"./data/Train/X_train.txt\")\n",
    "y = numpy.loadtxt(\"./data/Train/y_train.txt\")"
   ]
  },
  {
   "cell_type": "code",
   "execution_count": 3,
   "metadata": {},
   "outputs": [],
   "source": [
    "X, y = shuffle(X, y)\n",
    "X_train, X_test, y_train, y_test = train_test_split(X, y, test_size=0.10)"
   ]
  },
  {
   "cell_type": "code",
   "execution_count": 5,
   "metadata": {},
   "outputs": [],
   "source": [
    "from models import neural_network\n",
    "from sklearn.feature_selection import SelectKBest, mutual_info_classif\n",
    "from sklearn.metrics import accuracy_score\n",
    "ls = [5, 10, 50, 100, 561]\n",
    "report = []\n",
    "for l in ls:\n",
    "    transformer = SelectKBest(mutual_info_classif, k=l)\n",
    "    X_train_new = transformer.fit_transform(X_train, y_train)\n",
    "    neural_network_model = neural_network.without_penalty(X_train_new, y_train)\n",
    "    y_pred = neural_network_model.predict(transformer.transform(X_test))\n",
    "    score = accuracy_score(y_test, y_pred)\n",
    "    data={\n",
    "        'l': l,\n",
    "        'score': score\n",
    "    }\n",
    "    report.append(data)"
   ]
  },
  {
   "cell_type": "code",
   "execution_count": 6,
   "metadata": {},
   "outputs": [
    {
     "data": {
      "text/plain": [
       "[{'l': 5, 'score': 0.5791505791505791},\n {'l': 10, 'score': 0.5701415701415702},\n {'l': 50, 'score': 0.8931788931788932},\n {'l': 100, 'score': 0.9420849420849421}]"
      ]
     },
     "execution_count": 6,
     "metadata": {},
     "output_type": "execute_result"
    }
   ],
   "source": [
    "report"
   ]
  },
  {
   "cell_type": "code",
   "execution_count": null,
   "metadata": {},
   "outputs": [],
   "source": [
    "from sklearn.feature_selection import GenericUnivariateSelect\n",
    "for l in ls:\n",
    "    transformer = GenericUnivariateSelect(chi2, 'k_best', param=20)"
   ]
  }
 ],
 "metadata": {
  "kernelspec": {
   "display_name": "Python 2",
   "language": "python",
   "name": "python2"
  },
  "language_info": {
   "codemirror_mode": {
    "name": "ipython",
    "version": 2
   },
   "file_extension": ".py",
   "mimetype": "text/x-python",
   "name": "python",
   "nbconvert_exporter": "python",
   "pygments_lexer": "ipython2",
   "version": "2.7.6"
  }
 },
 "nbformat": 4,
 "nbformat_minor": 0
}
