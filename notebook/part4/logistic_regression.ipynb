{
 "cells": [
  {
   "cell_type": "code",
   "execution_count": 2,
   "metadata": {
    "collapsed": true
   },
   "outputs": [],
   "source": [
    "import numpy\n",
    "from sklearn.utils import shuffle\n",
    "from sklearn.model_selection import train_test_split\n",
    "X = numpy.loadtxt(\"./data/Train/X_train.txt\")\n",
    "y = numpy.loadtxt(\"./data/Train/y_train.txt\")"
   ]
  },
  {
   "cell_type": "code",
   "execution_count": 4,
   "metadata": {},
   "outputs": [],
   "source": [
    "X, y = shuffle(X, y)\n",
    "X_train, X_test, y_train, y_test = train_test_split(X, y, test_size=0.20)"
   ]
  },
  {
   "cell_type": "code",
   "execution_count": 5,
   "metadata": {},
   "outputs": [],
   "source": [
    "from models import logistic_regression\n",
    "from sklearn.metrics import accuracy_score\n",
    "ls = [5, 10, 50, 100, 561]\n",
    "report = {}"
   ]
  },
  {
   "cell_type": "code",
   "execution_count": 7,
   "metadata": {
    "collapsed": false
   },
   "outputs": [
    {
     "name": "stderr",
     "output_type": "stream",
     "text": [
      "/home/mahdi/.local/share/virtualenvs/machine-learning-final-project-uk2p9d2v/lib/python3.6/site-packages/sklearn/utils/optimize.py:203: ConvergenceWarning: newton-cg failed to converge. Increase the number of iterations.\n  \"number of iterations.\", ConvergenceWarning)\n"
     ]
    },
    {
     "name": "stderr",
     "output_type": "stream",
     "text": [
      "/home/mahdi/.local/share/virtualenvs/machine-learning-final-project-uk2p9d2v/lib/python3.6/site-packages/sklearn/utils/optimize.py:203: ConvergenceWarning: newton-cg failed to converge. Increase the number of iterations.\n  \"number of iterations.\", ConvergenceWarning)\n"
     ]
    },
    {
     "name": "stderr",
     "output_type": "stream",
     "text": [
      "/home/mahdi/.local/share/virtualenvs/machine-learning-final-project-uk2p9d2v/lib/python3.6/site-packages/sklearn/utils/optimize.py:203: ConvergenceWarning: newton-cg failed to converge. Increase the number of iterations.\n  \"number of iterations.\", ConvergenceWarning)\n"
     ]
    }
   ],
   "source": [
    "from sklearn.feature_selection import SelectKBest, mutual_info_classif\n",
    "report['mutual_info_classif'] = []\n",
    "for l in ls:\n",
    "    transformer = SelectKBest(mutual_info_classif, k=l)\n",
    "    X_train_new = transformer.fit_transform(X_train, y_train)\n",
    "    logistic_regression_model = logistic_regression.without_penalty(X_train_new, y_train)\n",
    "    y_pred = logistic_regression_model.predict(transformer.transform(X_test))\n",
    "    score = accuracy_score(y_test, y_pred)\n",
    "    data={\n",
    "        'l': l,\n",
    "        'score': score\n",
    "    }\n",
    "    report['mutual_info_classif'].append(data)"
   ]
  },
  {
   "cell_type": "code",
   "execution_count": 10,
   "metadata": {},
   "outputs": [
    {
     "data": {
      "text/plain": [
       "[{'l': 5, 'score': 0.592020592020592},\n {'l': 10, 'score': 0.640926640926641},\n {'l': 50, 'score': 0.7541827541827542},\n {'l': 100, 'score': 0.8854568854568855},\n {'l': 561, 'score': 0.9562419562419563}]"
      ]
     },
     "execution_count": 10,
     "metadata": {},
     "output_type": "execute_result"
    }
   ],
   "source": [
    "report['mutual_info_classif']"
   ]
  },
  {
   "cell_type": "heading",
   "metadata": {},
   "level": 2,
   "source": [
    "select from model logistic regression with l1 penalty"
   ]
  },
  {
   "cell_type": "code",
   "execution_count": 16,
   "metadata": {},
   "outputs": [],
   "source": [
    "from sklearn.feature_selection import SelectFromModel\n",
    "clf = logistic_regression.penalty_l1(X_train, y_train, 0.01)\n",
    "report['sfm_lrl1_0.01'] = []\n",
    "for l in ls:\n",
    "    transformer = SelectFromModel(clf, prefit=True, max_features=l)\n",
    "    X_train_new = transformer.transform(X_train)\n",
    "    logistic_regression_model = logistic_regression.without_penalty(X_train_new, y_train)\n",
    "    y_pred = logistic_regression_model.predict(transformer.transform(X_test))\n",
    "    score = accuracy_score(y_test, y_pred)\n",
    "    data={\n",
    "        'l': l,\n",
    "        'score': score\n",
    "    }\n",
    "    report['sfm_lrl1_0.01'].append(data)"
   ]
  },
  {
   "cell_type": "code",
   "execution_count": null,
   "metadata": {},
   "outputs": [],
   "source": [
    "report"
   ]
  }
 ],
 "metadata": {
  "kernelspec": {
   "display_name": "Python 2",
   "language": "python",
   "name": "python2"
  },
  "language_info": {
   "codemirror_mode": {
    "name": "ipython",
    "version": 2
   },
   "file_extension": ".py",
   "mimetype": "text/x-python",
   "name": "python",
   "nbconvert_exporter": "python",
   "pygments_lexer": "ipython2",
   "version": "2.7.6"
  }
 },
 "nbformat": 4,
 "nbformat_minor": 0
}
