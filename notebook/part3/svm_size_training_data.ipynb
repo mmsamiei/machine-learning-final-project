{
 "cells": [
  {
   "cell_type": "code",
   "execution_count": 1,
   "metadata": {
    "collapsed": true
   },
   "outputs": [],
   "source": [
    "import numpy\n",
    "from sklearn.utils import shuffle\n",
    "from sklearn.model_selection import train_test_split\n",
    "X = numpy.loadtxt(\"./data/Train/X_train.txt\")\n",
    "y = numpy.loadtxt(\"./data/Train/y_train.txt\")"
   ]
  },
  {
   "cell_type": "code",
   "execution_count": 2,
   "metadata": {},
   "outputs": [],
   "source": [
    "X, y = shuffle(X, y)\n",
    "X_train, X_test, y_train, y_test = train_test_split(X, y, test_size=0.10)\n",
    "size_training = len(X_train)"
   ]
  },
  {
   "cell_type": "code",
   "execution_count": 3,
   "metadata": {},
   "outputs": [],
   "source": [
    "from models import svm\n",
    "from sklearn.metrics import accuracy_score\n",
    "ks = [.05, .10, .20, .50, 1]\n",
    "report = []\n",
    "for k in ks:\n",
    "    svm_model = svm.without_penalty(X_train[:int(k*size_training)], y_train[:int(k*size_training)])\n",
    "    y_pred = svm_model.predict(X_test)\n",
    "    score = accuracy_score(y_test, y_pred)\n",
    "    data={\n",
    "        'k': k,\n",
    "        'score': score\n",
    "    }\n",
    "    report.append(data)"
   ]
  },
  {
   "cell_type": "code",
   "execution_count": 4,
   "metadata": {},
   "outputs": [
    {
     "data": {
      "text/plain": [
       "[{'k': 0.05, 'score': 0.9111969111969112},\n {'k': 0.1, 'score': 0.9369369369369369},\n {'k': 0.2, 'score': 0.9510939510939511},\n {'k': 0.5, 'score': 0.9575289575289575},\n {'k': 1, 'score': 0.9665379665379665}]"
      ]
     },
     "execution_count": 4,
     "metadata": {},
     "output_type": "execute_result"
    }
   ],
   "source": [
    "report"
   ]
  }
 ],
 "metadata": {
  "kernelspec": {
   "display_name": "Python 2",
   "language": "python",
   "name": "python2"
  },
  "language_info": {
   "codemirror_mode": {
    "name": "ipython",
    "version": 2
   },
   "file_extension": ".py",
   "mimetype": "text/x-python",
   "name": "python",
   "nbconvert_exporter": "python",
   "pygments_lexer": "ipython2",
   "version": "2.7.6"
  }
 },
 "nbformat": 4,
 "nbformat_minor": 0
}
