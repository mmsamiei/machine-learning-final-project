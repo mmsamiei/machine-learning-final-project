{
 "cells": [
  {
   "cell_type": "code",
   "execution_count": 1,
   "metadata": {
    "collapsed": true
   },
   "outputs": [],
   "source": [
    "import numpy\n",
    "from sklearn.utils import shuffle\n",
    "from sklearn.model_selection import train_test_split\n",
    "X = numpy.loadtxt(\"./data/Train/X_train.txt\")\n",
    "y = numpy.loadtxt(\"./data/Train/y_train.txt\")"
   ]
  },
  {
   "cell_type": "code",
   "execution_count": 3,
   "metadata": {},
   "outputs": [],
   "source": [
    "X, y = shuffle(X, y)\n",
    "X_train, X_test, y_train, y_test = train_test_split(X, y, test_size=0.10)\n",
    "size_training = len(X_train)"
   ]
  },
  {
   "cell_type": "code",
   "execution_count": 4,
   "metadata": {},
   "outputs": [],
   "source": [
    "from models import neural_network\n",
    "from sklearn.metrics import accuracy_score\n",
    "ks = [.05, .10, .20, .50, 1]\n",
    "report = []\n",
    "for k in ks:\n",
    "    neural_network_model = neural_network.without_penalty(X_train[:int(k*size_training)], y_train[:int(k*size_training)])\n",
    "    y_pred = neural_network_model.predict(X_test)\n",
    "    score = accuracy_score(y_test, y_pred)\n",
    "    data={\n",
    "        'k': k,\n",
    "        'score': score\n",
    "    }\n",
    "    report.append(data)"
   ]
  },
  {
   "cell_type": "code",
   "execution_count": 5,
   "metadata": {},
   "outputs": [
    {
     "data": {
      "text/plain": [
       "[{'k': 0.05, 'score': 0.8996138996138996},\n {'k': 0.1, 'score': 0.9395109395109396},\n {'k': 0.2, 'score': 0.9588159588159588},\n {'k': 0.5, 'score': 0.9781209781209781},\n {'k': 1, 'score': 0.9832689832689833}]"
      ]
     },
     "execution_count": 5,
     "metadata": {},
     "output_type": "execute_result"
    }
   ],
   "source": [
    "report"
   ]
  }
 ],
 "metadata": {
  "kernelspec": {
   "display_name": "Python 2",
   "language": "python",
   "name": "python2"
  },
  "language_info": {
   "codemirror_mode": {
    "name": "ipython",
    "version": 2
   },
   "file_extension": ".py",
   "mimetype": "text/x-python",
   "name": "python",
   "nbconvert_exporter": "python",
   "pygments_lexer": "ipython2",
   "version": "2.7.6"
  }
 },
 "nbformat": 4,
 "nbformat_minor": 0
}
