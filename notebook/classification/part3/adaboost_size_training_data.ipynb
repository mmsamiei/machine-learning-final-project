{
 "cells": [
  {
   "cell_type": "code",
   "execution_count": 4,
   "metadata": {
    "collapsed": true
   },
   "outputs": [],
   "source": [
    "import numpy\n",
    "from sklearn.utils import shuffle\n",
    "from sklearn.model_selection import train_test_split\n",
    "X = numpy.loadtxt(\"./data/Train/X_train.txt\")\n",
    "y = numpy.loadtxt(\"./data/Train/y_train.txt\")"
   ]
  },
  {
   "cell_type": "code",
   "execution_count": 5,
   "metadata": {},
   "outputs": [],
   "source": [
    "X, y = shuffle(X, y)\n",
    "X_train, X_test, y_train, y_test = train_test_split(X, y, test_size=0.10)\n",
    "size_training = len(X_train)"
   ]
  },
  {
   "cell_type": "code",
   "execution_count": 7,
   "metadata": {},
   "outputs": [],
   "source": [
    "from models import adaboost\n",
    "from sklearn.metrics import accuracy_score\n",
    "ks = [.05, .10, .20, .50, 1]\n",
    "report = []\n",
    "for k in ks:\n",
    "    adaboost_model = adaboost.without_penalty(X_train[:int(k*size_training)], y_train[:int(k*size_training)])\n",
    "    y_pred = adaboost_model.predict(X_test)\n",
    "    score = accuracy_score(y_test, y_pred)\n",
    "    data={\n",
    "        'k': k,\n",
    "        'score': score\n",
    "    }\n",
    "    report.append(data)"
   ]
  },
  {
   "cell_type": "code",
   "execution_count": 9,
   "metadata": {
    "collapsed": false
   },
   "outputs": [
    {
     "data": {
      "text/plain": [
       "[{'k': 0.05, 'score': 0.5431145431145431},\n {'k': 0.1, 'score': 0.5302445302445302},\n {'k': 0.2, 'score': 0.583011583011583},\n {'k': 0.5, 'score': 0.6396396396396397},\n {'k': 1, 'score': 0.5572715572715573}]"
      ]
     },
     "execution_count": 9,
     "metadata": {},
     "output_type": "execute_result"
    }
   ],
   "source": [
    "report"
   ]
  }
 ],
 "metadata": {
  "kernelspec": {
   "display_name": "Python 2",
   "language": "python",
   "name": "python2"
  },
  "language_info": {
   "codemirror_mode": {
    "name": "ipython",
    "version": 2
   },
   "file_extension": ".py",
   "mimetype": "text/x-python",
   "name": "python",
   "nbconvert_exporter": "python",
   "pygments_lexer": "ipython2",
   "version": "2.7.6"
  }
 },
 "nbformat": 4,
 "nbformat_minor": 0
}
