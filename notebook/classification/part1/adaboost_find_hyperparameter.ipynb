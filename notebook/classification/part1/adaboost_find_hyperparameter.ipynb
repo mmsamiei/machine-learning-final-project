{
 "cells": [
  {
   "cell_type": "code",
   "execution_count": 1,
   "metadata": {
    "collapsed": true
   },
   "outputs": [],
   "source": [
    "import numpy\n",
    "X = numpy.loadtxt(\"./data/Train/X_train.txt\")\n",
    "y = numpy.loadtxt(\"./data/Train/y_train.txt\")"
   ]
  },
  {
   "cell_type": "code",
   "execution_count": 2,
   "metadata": {
    "collapsed": false
   },
   "outputs": [
    {
     "name": "stdout",
     "output_type": "stream",
     "text": [
      "cross validation scores of best moddel are : [0.85622593 0.84768638 0.85649936 0.84912959 0.85723514]\nmean of cross validation scores of best model is: 0.8533552796860722\n"
     ]
    }
   ],
   "source": [
    "from models import adaboost\n",
    "best_model = adaboost.find_hyperparameter(X,y)"
   ]
  },
  {
   "cell_type": "code",
   "execution_count": 3,
   "metadata": {
    "collapsed": false
   },
   "outputs": [
    {
     "data": {
      "text/plain": [
       "{'algorithm': 'SAMME.R',\n 'base_estimator__class_weight': None,\n 'base_estimator__criterion': 'gini',\n 'base_estimator__max_depth': 4,\n 'base_estimator__max_features': None,\n 'base_estimator__max_leaf_nodes': None,\n 'base_estimator__min_impurity_decrease': 0.0,\n 'base_estimator__min_impurity_split': None,\n 'base_estimator__min_samples_leaf': 1,\n 'base_estimator__min_samples_split': 2,\n 'base_estimator__min_weight_fraction_leaf': 0.0,\n 'base_estimator__presort': False,\n 'base_estimator__random_state': None,\n 'base_estimator__splitter': 'best',\n 'base_estimator': DecisionTreeClassifier(class_weight=None, criterion='gini', max_depth=4,\n             max_features=None, max_leaf_nodes=None,\n             min_impurity_decrease=0.0, min_impurity_split=None,\n             min_samples_leaf=1, min_samples_split=2,\n             min_weight_fraction_leaf=0.0, presort=False, random_state=None,\n             splitter='best'),\n 'learning_rate': 0.6,\n 'n_estimators': 104,\n 'random_state': None}"
      ]
     },
     "execution_count": 3,
     "metadata": {},
     "output_type": "execute_result"
    }
   ],
   "source": [
    "best_model.get_params()"
   ]
  }
 ],
 "metadata": {
  "kernelspec": {
   "display_name": "Python 2",
   "language": "python",
   "name": "python2"
  },
  "language_info": {
   "codemirror_mode": {
    "name": "ipython",
    "version": 2
   },
   "file_extension": ".py",
   "mimetype": "text/x-python",
   "name": "python",
   "nbconvert_exporter": "python",
   "pygments_lexer": "ipython2",
   "version": "2.7.6"
  }
 },
 "nbformat": 4,
 "nbformat_minor": 0
}
